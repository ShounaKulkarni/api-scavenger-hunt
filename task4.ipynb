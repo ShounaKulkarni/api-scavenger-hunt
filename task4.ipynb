{
 "cells": [
  {
   "cell_type": "code",
   "execution_count": 1,
   "id": "c58cce46",
   "metadata": {},
   "outputs": [
    {
     "name": "stdout",
     "output_type": "stream",
     "text": [
      "100 USD is 93.312 EUR\n",
      "1000 JPY is 5.397 GBP\n"
     ]
    }
   ],
   "source": [
    "import requests\n",
    "\n",
    "# actual API key\n",
    "api_key = 'pr_1fa20cf4b1e944c0b31ba3b9e1f79497'\n",
    "\n",
    "# Function to convert currencies\n",
    "def convert_currency(amount, from_currency, to_currency, api_key):\n",
    "    url = f\"https://free.currconv.com/api/v7/convert?q={from_currency}_{to_currency}&compact=ultra&apiKey={api_key}\"\n",
    "    response = requests.get(url)\n",
    "    if response.status_code == 200:\n",
    "        data = response.json()\n",
    "        rate = data[f\"{from_currency}_{to_currency}\"]\n",
    "        return rate * amount\n",
    "    else:\n",
    "        print(\"Error:\", response.status_code, response.text)\n",
    "        return None\n",
    "\n",
    "# Convert 100 USD to EUR\n",
    "usd_to_eur = convert_currency(100, 'USD', 'EUR', api_key)\n",
    "print(f\"100 USD is {usd_to_eur} EUR\")\n",
    "\n",
    "# Convert 1000 JPY to GBP\n",
    "jpy_to_gbp = convert_currency(1000, 'JPY', 'GBP', api_key)\n",
    "print(f\"1000 JPY is {jpy_to_gbp} GBP\")"
   ]
  },
  {
   "cell_type": "code",
   "execution_count": null,
   "id": "e6cc191c",
   "metadata": {},
   "outputs": [],
   "source": []
  }
 ],
 "metadata": {
  "kernelspec": {
   "display_name": "Python 3 (ipykernel)",
   "language": "python",
   "name": "python3"
  },
  "language_info": {
   "codemirror_mode": {
    "name": "ipython",
    "version": 3
   },
   "file_extension": ".py",
   "mimetype": "text/x-python",
   "name": "python",
   "nbconvert_exporter": "python",
   "pygments_lexer": "ipython3",
   "version": "3.9.12"
  }
 },
 "nbformat": 4,
 "nbformat_minor": 5
}
